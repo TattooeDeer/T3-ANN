{
  "nbformat": 4,
  "nbformat_minor": 0,
  "metadata": {
    "colab": {
      "name": "Untitled2.ipynb",
      "version": "0.3.2",
      "provenance": [],
      "collapsed_sections": [],
      "toc_visible": true,
      "include_colab_link": true
    },
    "kernelspec": {
      "name": "python3",
      "display_name": "Python 3"
    },
    "accelerator": "GPU"
  },
  "cells": [
    {
      "cell_type": "markdown",
      "metadata": {
        "id": "view-in-github",
        "colab_type": "text"
      },
      "source": [
        "[View in Colaboratory](https://colab.research.google.com/github/TattooeDeer/T3-ANN/blob/master/Tarea3.ipynb)"
      ]
    },
    {
      "metadata": {
        "id": "U33cHS9jqmBN",
        "colab_type": "code",
        "colab": {}
      },
      "cell_type": "code",
      "source": [
        ""
      ],
      "execution_count": 0,
      "outputs": []
    },
    {
      "metadata": {
        "id": "4GkiOm_HqvUC",
        "colab_type": "text"
      },
      "cell_type": "markdown",
      "source": [
        "# Tarea 3 Redes Neuronales\n",
        "## Ignacio Loayza C. 201273604-8\n",
        "## Camilo Perez P. \n",
        "\n"
      ]
    },
    {
      "metadata": {
        "id": "9Vtp45CXrMVy",
        "colab_type": "code",
        "colab": {}
      },
      "cell_type": "code",
      "source": [
        ""
      ],
      "execution_count": 0,
      "outputs": []
    }
  ]
}